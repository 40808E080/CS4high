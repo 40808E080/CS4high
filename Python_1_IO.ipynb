{
  "nbformat": 4,
  "nbformat_minor": 0,
  "metadata": {
    "colab": {
      "name": "Python_1_IO.ipynb",
      "provenance": [],
      "collapsed_sections": [],
      "include_colab_link": true
    },
    "kernelspec": {
      "name": "python3",
      "display_name": "Python 3"
    }
  },
  "cells": [
    {
      "cell_type": "markdown",
      "metadata": {
        "id": "view-in-github",
        "colab_type": "text"
      },
      "source": [
        "<a href=\"https://colab.research.google.com/github/MyDearGreatTeacher/CS4high/blob/master/Python_1_IO.ipynb\" target=\"_parent\"><img src=\"https://colab.research.google.com/assets/colab-badge.svg\" alt=\"Open In Colab\"/></a>"
      ]
    },
    {
      "cell_type": "markdown",
      "metadata": {
        "id": "48oJM4EnY7co",
        "colab_type": "text"
      },
      "source": [
        "# 輸入與輸出(Input and Output) 2019.9.19\n",
        "\n",
        "單元學習目標:\n",
        "\n",
        "python輸入:input(), raw_input() 看不懂???\n",
        "\n",
        "python輸出: print()\n",
        "\n",
        "python格式化輸出技術  老師說的:很重要   必考題"
      ]
    },
    {
      "cell_type": "markdown",
      "metadata": {
        "id": "ZWjgByXmaFnm",
        "colab_type": "text"
      },
      "source": [
        "## 基本輸入:讀取使用者的輸入\n",
        "```\n",
        "使用input時，會從標準輸入(stdin)中讀取輸入資料\n",
        "這些資料是string字串型態{重要}\n",
        "```\n",
        "\n",
        "stdin==Standard Input"
      ]
    },
    {
      "cell_type": "code",
      "metadata": {
        "id": "ijngqghocdMi",
        "colab_type": "code",
        "outputId": "e630d239-7d2b-4070-aac1-14abf5e2e43f",
        "colab": {
          "base_uri": "https://localhost:8080/",
          "height": 52
        }
      },
      "source": [
        "x = input('Enter your name:')\n",
        "print('哈囉, ' + x)"
      ],
      "execution_count": 2,
      "outputs": [
        {
          "output_type": "stream",
          "text": [
            "Enter your name:龍大大\n",
            "哈囉, 龍大大\n"
          ],
          "name": "stdout"
        }
      ]
    },
    {
      "cell_type": "code",
      "metadata": {
        "id": "30xXufkLaCmw",
        "colab_type": "code",
        "outputId": "daea6db9-a00d-4124-c305-c51f6f374689",
        "colab": {
          "base_uri": "https://localhost:8080/",
          "height": 52
        }
      },
      "source": [
        "a = input(\"請輸入：\")\n",
        "a"
      ],
      "execution_count": 3,
      "outputs": [
        {
          "output_type": "stream",
          "text": [
            "請輸入：100\n"
          ],
          "name": "stdout"
        },
        {
          "output_type": "execute_result",
          "data": {
            "text/plain": [
              "'100'"
            ]
          },
          "metadata": {
            "tags": []
          },
          "execution_count": 3
        }
      ]
    },
    {
      "cell_type": "markdown",
      "metadata": {
        "id": "1SD7O0o7ctjF",
        "colab_type": "text"
      },
      "source": [
        "###  Python內建的type()函數可以顯示資料型態"
      ]
    },
    {
      "cell_type": "markdown",
      "metadata": {
        "id": "8a9nFeWCQ6pd",
        "colab_type": "text"
      },
      "source": [
        "str==string==字串資料型態"
      ]
    },
    {
      "cell_type": "code",
      "metadata": {
        "id": "pF9kFc3TaSqq",
        "colab_type": "code",
        "colab": {}
      },
      "source": [
        "type(a)"
      ],
      "execution_count": 0,
      "outputs": []
    },
    {
      "cell_type": "markdown",
      "metadata": {
        "id": "3gqt8RrVc9UW",
        "colab_type": "text"
      },
      "source": [
        "### 錯誤的做法：請指出底下程式的錯誤"
      ]
    },
    {
      "cell_type": "code",
      "metadata": {
        "id": "iKzh0Ml7Z5Bl",
        "colab_type": "code",
        "colab": {
          "base_uri": "https://localhost:8080/",
          "height": 51
        },
        "outputId": "bf0a8e03-cda0-483e-b528-def154ae4ddb"
      },
      "source": [
        "# 輸入100看看會怎樣??\n",
        "\n",
        "a = input(\"請輸入：\")\n",
        "a\n",
        "type(a)\n",
        "\n"
      ],
      "execution_count": 8,
      "outputs": [
        {
          "output_type": "stream",
          "text": [
            "請輸入：100\n"
          ],
          "name": "stdout"
        },
        {
          "output_type": "execute_result",
          "data": {
            "text/plain": [
              "str"
            ]
          },
          "metadata": {
            "tags": []
          },
          "execution_count": 8
        }
      ]
    },
    {
      "cell_type": "code",
      "metadata": {
        "id": "yzAB_VhoTMgU",
        "colab_type": "code",
        "colab": {}
      },
      "source": [
        "b=a+1\n",
        "b"
      ],
      "execution_count": 0,
      "outputs": []
    },
    {
      "cell_type": "markdown",
      "metadata": {
        "id": "7tWctVVURaR9",
        "colab_type": "text"
      },
      "source": [
        "TypeError ==資料型態錯誤\n",
        "\n",
        "Type==資料型態==Data Type "
      ]
    },
    {
      "cell_type": "markdown",
      "metadata": {
        "id": "7W0HURAya60W",
        "colab_type": "text"
      },
      "source": [
        "## 基本輸入:讀取使用者輸入的整數\n",
        "\n",
        "使用eval()函數"
      ]
    },
    {
      "cell_type": "code",
      "metadata": {
        "id": "vBXo8FrOS4RF",
        "colab_type": "code",
        "colab": {
          "base_uri": "https://localhost:8080/",
          "height": 51
        },
        "outputId": "af56be9c-4a96-4a7d-866d-c2d8239ad2b9"
      },
      "source": [
        "c = int(input(\"請輸入：\"))\n",
        "type(c)"
      ],
      "execution_count": 12,
      "outputs": [
        {
          "output_type": "stream",
          "text": [
            "請輸入：100\n"
          ],
          "name": "stdout"
        },
        {
          "output_type": "execute_result",
          "data": {
            "text/plain": [
              "int"
            ]
          },
          "metadata": {
            "tags": []
          },
          "execution_count": 12
        }
      ]
    },
    {
      "cell_type": "code",
      "metadata": {
        "id": "I-bbsfCJbTbk",
        "colab_type": "code",
        "outputId": "3fb08d15-2574-45a8-f612-ce0f36c2a1db",
        "colab": {
          "base_uri": "https://localhost:8080/",
          "height": 51
        }
      },
      "source": [
        "a = eval(input(\"請輸入：\"))\n",
        "type(a)"
      ],
      "execution_count": 10,
      "outputs": [
        {
          "output_type": "stream",
          "text": [
            "請輸入：100\n"
          ],
          "name": "stdout"
        },
        {
          "output_type": "execute_result",
          "data": {
            "text/plain": [
              "int"
            ]
          },
          "metadata": {
            "tags": []
          },
          "execution_count": 10
        }
      ]
    },
    {
      "cell_type": "code",
      "metadata": {
        "id": "8PjXBoZNbiyp",
        "colab_type": "code",
        "outputId": "e4f3db5e-58a5-44de-db95-467c90cc1eb8",
        "colab": {
          "base_uri": "https://localhost:8080/",
          "height": 34
        }
      },
      "source": [
        "b=a+1\n",
        "b"
      ],
      "execution_count": 11,
      "outputs": [
        {
          "output_type": "execute_result",
          "data": {
            "text/plain": [
              "101"
            ]
          },
          "metadata": {
            "tags": []
          },
          "execution_count": 11
        }
      ]
    },
    {
      "cell_type": "markdown",
      "metadata": {
        "id": "3s9vlMhfbuzR",
        "colab_type": "text"
      },
      "source": [
        "## 超級重要:可以一次輸入多（兩）個資料\n"
      ]
    },
    {
      "cell_type": "code",
      "metadata": {
        "id": "VkgFCFQbbvsL",
        "colab_type": "code",
        "outputId": "5f627ec3-5808-45d8-d06b-d5e5a08026fc",
        "colab": {
          "base_uri": "https://localhost:8080/",
          "height": 52
        }
      },
      "source": [
        "a,b = eval(input(\"請輸入兩個數位：\"))\n",
        "a,b"
      ],
      "execution_count": 14,
      "outputs": [
        {
          "output_type": "stream",
          "text": [
            "請輸入兩個數位：11,22\n"
          ],
          "name": "stdout"
        },
        {
          "output_type": "execute_result",
          "data": {
            "text/plain": [
              "(11, 22)"
            ]
          },
          "metadata": {
            "tags": []
          },
          "execution_count": 14
        }
      ]
    },
    {
      "cell_type": "markdown",
      "metadata": {
        "id": "xQnUFmw6e3Pv",
        "colab_type": "text"
      },
      "source": [
        "### 高階技巧:"
      ]
    },
    {
      "cell_type": "code",
      "metadata": {
        "id": "-SB2rXihemQJ",
        "colab_type": "code",
        "outputId": "f9b01bf9-e91b-4a4b-d19d-23a891ccf9e3",
        "colab": {
          "base_uri": "https://localhost:8080/",
          "height": 103
        }
      },
      "source": [
        "x, y, z = [int(x) for x in input(\"Enter three value: \").split()] \n",
        "print(\"First Number is: \", x) \n",
        "print(\"Second Number is: \", y) \n",
        "print(\"Third Number is: \", z) \n",
        "print() "
      ],
      "execution_count": 0,
      "outputs": [
        {
          "output_type": "stream",
          "text": [
            "Enter three value: 2 3 4\n",
            "First Number is:  2\n",
            "Second Number is:  3\n",
            "Third Number is:  4\n",
            "\n"
          ],
          "name": "stdout"
        }
      ]
    },
    {
      "cell_type": "code",
      "metadata": {
        "id": "KFu-WieEfRIO",
        "colab_type": "code",
        "colab": {}
      },
      "source": [
        "x, y, z = [int(x) for x in input(\"Enter three value: \").split(\",\")] \n",
        "print(\"First Number is: \", x) \n",
        "print(\"Second Number is: \", y) \n",
        "print(\"Third Number is: \", z) \n",
        "print()"
      ],
      "execution_count": 0,
      "outputs": []
    },
    {
      "cell_type": "code",
      "metadata": {
        "id": "0jimkUvuf45y",
        "colab_type": "code",
        "outputId": "a90676dd-5b83-4319-9e1f-3f65bf82025c",
        "colab": {
          "base_uri": "https://localhost:8080/",
          "height": 68
        }
      },
      "source": [
        "a, b = input(\"Enter a two value: \").split() \n",
        "print(\"First number is {} and second number is {}\".format(a, b)) \n",
        "print() "
      ],
      "execution_count": 0,
      "outputs": [
        {
          "output_type": "stream",
          "text": [
            "Enter a two value: 1 2\n",
            "First number is 1 and second number is 2\n",
            "\n"
          ],
          "name": "stdout"
        }
      ]
    },
    {
      "cell_type": "code",
      "metadata": {
        "id": "UnNyNCQxijMo",
        "colab_type": "code",
        "outputId": "fd529e70-640c-447c-df1a-d2701f9bb6ce",
        "colab": {
          "base_uri": "https://localhost:8080/",
          "height": 34
        }
      },
      "source": [
        ""
      ],
      "execution_count": 0,
      "outputs": [
        {
          "output_type": "execute_result",
          "data": {
            "text/plain": [
              "'0xff'"
            ]
          },
          "metadata": {
            "tags": []
          },
          "execution_count": 25
        }
      ]
    }
  ]
}